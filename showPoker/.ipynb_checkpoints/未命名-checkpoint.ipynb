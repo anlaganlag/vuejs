{
 "cells": [
  {
   "cell_type": "code",
   "execution_count": 1,
   "metadata": {},
   "outputs": [
    {
     "data": {
      "text/plain": [
       "['X1',\n",
       " 'A',\n",
       " 'A',\n",
       " 'K',\n",
       " 'K',\n",
       " 'Q',\n",
       " 'Q',\n",
       " 'Q',\n",
       " 'Q',\n",
       " 'J',\n",
       " '0',\n",
       " '0',\n",
       " '8',\n",
       " '6',\n",
       " '4',\n",
       " '4',\n",
       " '3']"
      ]
     },
     "execution_count": 1,
     "metadata": {},
     "output_type": "execute_result"
    }
   ],
   "source": [
    "import random\n",
    "#各个牌型的权重\n",
    "weight = {\"3\":1,\"4\":2,\"5\":3,\"6\":4,\"7\":5,\"8\":6,\"9\":7,\"10\":8,\"11\":9,\"12\":10,\\\n",
    "          \"13\":11,\"1\":12,\"2\":13,\"14\":14,\"15\":15}\n",
    "#各个牌型显示效果\n",
    "show = {\"1\":\"A\",\"10\":\"0\",\"11\":\"J\",\"12\":\"Q\",\"13\":\"K\",\"14\":\"X2\",\"15\":\"X1\"}\n",
    "\n",
    "\n",
    "\n",
    "#一副完整的新牌型\n",
    "def makeDeck():\n",
    "    deck = []\n",
    "    cardNum=52\n",
    "    for i in range(cardNum):\n",
    "    #牌的点数即4个一组\n",
    "        deck.append(str(i//4+1))\n",
    "    #加上大小王\n",
    "    deck.extend([\"14\",\"15\"])\n",
    "    return deck\n",
    "\n",
    "#洗牌操作\n",
    "def makeShuffleDeck():\n",
    "    ans = []\n",
    "    deck =makeDeck()\n",
    "    random.shuffle(deck)\n",
    "    gap = 17\n",
    "    total = 54\n",
    "    for i in range(0,total,gap):\n",
    "    #根据权重从大到小排序\n",
    "        ans.append(sorted(deck[i:i+gap],key=lambda x:-weight[x]))\n",
    "    h1,h2,h3,remain = ans\n",
    "    return h1,h2,h3,remain\n",
    "\n",
    "def showIt(l):\n",
    "\n",
    "    ans = []\n",
    "    for i in l:\n",
    "        if show.get(i):\n",
    "            ans.append(show[i])\n",
    "        else:\n",
    "            ans.append(i)\n",
    "    return ans\n",
    "            \n",
    "a1,a2,a3,r = makeShuffleDeck()\n",
    "showIt(a1)\n",
    "    \n"
   ]
  },
  {
   "cell_type": "code",
   "execution_count": null,
   "metadata": {},
   "outputs": [],
   "source": [
    "(['1',\n",
    "  '13',\n",
    "  '13',\n",
    "  '12',\n",
    "  '11',\n",
    "  '10',\n",
    "  '8',\n",
    "  '7',\n",
    "  '7',\n",
    "  '6',\n",
    "  '6',\n",
    "  '5',\n",
    "  '5',\n",
    "  '5',\n",
    "  '4',\n",
    "  '4',\n",
    "  '4'],"
   ]
  }
 ],
 "metadata": {
  "kernelspec": {
   "display_name": "Python 3",
   "language": "python",
   "name": "python3"
  },
  "language_info": {
   "codemirror_mode": {
    "name": "ipython",
    "version": 3
   },
   "file_extension": ".py",
   "mimetype": "text/x-python",
   "name": "python",
   "nbconvert_exporter": "python",
   "pygments_lexer": "ipython3",
   "version": "3.8.3"
  }
 },
 "nbformat": 4,
 "nbformat_minor": 4
}
