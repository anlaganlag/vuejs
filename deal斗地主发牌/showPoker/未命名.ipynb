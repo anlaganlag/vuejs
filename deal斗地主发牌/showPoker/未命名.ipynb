{
 "cells": [
  {
   "cell_type": "code",
   "execution_count": 4,
   "metadata": {},
   "outputs": [
    {
     "data": {
      "text/plain": [
       "['1 S',\n",
       " '1 H',\n",
       " '1 C',\n",
       " '1 D',\n",
       " '2 S',\n",
       " '2 H',\n",
       " '2 C',\n",
       " '2 D',\n",
       " '3 S',\n",
       " '3 H',\n",
       " '3 C',\n",
       " '3 D',\n",
       " '4 S',\n",
       " '4 H',\n",
       " '4 C',\n",
       " '4 D',\n",
       " '5 S',\n",
       " '5 H',\n",
       " '5 C',\n",
       " '5 D',\n",
       " '6 S',\n",
       " '6 H',\n",
       " '6 C',\n",
       " '6 D',\n",
       " '7 S',\n",
       " '7 H',\n",
       " '7 C',\n",
       " '7 D',\n",
       " '8 S',\n",
       " '8 H',\n",
       " '8 C',\n",
       " '8 D',\n",
       " '9 S',\n",
       " '9 H',\n",
       " '9 C',\n",
       " '9 D',\n",
       " '10 S',\n",
       " '10 H',\n",
       " '10 C',\n",
       " '10 D',\n",
       " '11 S',\n",
       " '11 H',\n",
       " '11 C',\n",
       " '11 D',\n",
       " '12 S',\n",
       " '12 H',\n",
       " '12 C',\n",
       " '12 D',\n",
       " '13 S',\n",
       " '13 H',\n",
       " '13 C',\n",
       " '13 D',\n",
       " '14',\n",
       " '15']"
      ]
     },
     "execution_count": 4,
     "metadata": {},
     "output_type": "execute_result"
    }
   ],
   "source": [
    "makeDeck()"
   ]
  },
  {
   "cell_type": "code",
   "execution_count": 24,
   "metadata": {},
   "outputs": [
    {
     "name": "stdout",
     "output_type": "stream",
     "text": [
      "[['X2', '2S', '2C', '2D', 'AD', 'AS', 'KC', '9S', '8H', '7H', '7C', '6D', '6H', '5H', '5S', '3C', '3H'], ['X1', '2H', 'AH', 'KD', 'KH', 'QC', 'QS', 'QH', 'JH', '0S', '0C', '0D', '0H', '9D', '7S', '5D', '4H'], ['AC', 'KS', 'JS', 'JD', 'JC', '9H', '9C', '8S', '8D', '8C', '7D', '6S', '6C', '4S', '4D', '3S', '3D'], ['QD', '5C', '4C']]\n"
     ]
    },
    {
     "data": {
      "text/plain": [
       "'🂱🃞🃎🃍🂽🂫🃋🂻🃉🂨🃘🂦🂶🂵🂥🃄🂣'"
      ]
     },
     "execution_count": 24,
     "metadata": {},
     "output_type": "execute_result"
    }
   ],
   "source": [
    "import random\n",
    "#各个牌型的权重\n",
    "weight = {\"3\":1,\"4\":2,\"5\":3,\"6\":4,\"7\":5,\"8\":6,\"9\":7,\"10\":8,\"11\":9,\"12\":10,\\\n",
    "          \"13\":11,\"1\":12,\"2\":13,\"14\":14,\"15\":15}\n",
    "#各个牌型显示效果\n",
    "show = {\"1\":\"A\",\"10\":\"0\",\"11\":\"J\",\"12\":\"Q\",\"13\":\"K\",\"14\":\"X2\",\"15\":\"X1\"}\n",
    "#花色\n",
    "cardType = [\"S\",\"H\",\"C\",\"D\"]\n",
    "\n",
    "#一副完整的新牌型\n",
    "def makeDeck():\n",
    "    deck = []\n",
    "    cardNum=52\n",
    "    for i in range(cardNum):\n",
    "    #牌的点数即4个一组,点数加上花色\n",
    "        deck.append(str(i//4+1)+\" \" +cardType[i%4])\n",
    "    #加上大小王14小王即X2,15大王即X1\n",
    "    deck.extend([\"14\",\"15\"])\n",
    "    return deck\n",
    "\n",
    "#洗牌操作\n",
    "def makeShuffleDeck():\n",
    "    ans = []\n",
    "    deck =makeDeck()\n",
    "    random.shuffle(deck)\n",
    "    gap = 17\n",
    "    total = 54\n",
    "    for i in range(0,total,gap):\n",
    "    #根据权重从大到小排序\n",
    "        ans.append(sorted(deck[i:i+gap],key=lambda x:-weight[x.split(\" \")[0]]))\n",
    "    h1,h2,h3,remain = ans\n",
    "    return h1,h2,h3,remain\n",
    "\n",
    "\n",
    "\n",
    "def showIt(l):\n",
    "    ans = []\n",
    "    for i in l:\n",
    "        if i in [\"14\",\"15\"]:\n",
    "            ans.append(show[i])\n",
    "        else:\n",
    "            cardPoint,cardType= i.split(\" \")\n",
    "            if show.get(cardPoint):\n",
    "                ans.append(show[cardPoint]+cardType)\n",
    "            else:\n",
    "                ans.append(cardPoint+cardType)\n",
    "    return ans\n",
    "            \n",
    "a1,a2,a3,r = makeShuffleDeck()\n",
    "print([showIt(a1),showIt(a2),showIt(a3),showIt(r)])\n",
    "# from unicards import unicard as uni\n",
    "l=['AH', 'KC', 'KD', 'QD', 'QH', 'JS', 'JD', 'JH', '9D', '8S', '8C', '6S', '6H', '5H', '5S', '4D', '3S']\n",
    "ans = \"\"\n",
    "for i in l:\n",
    "    ans+=uni(i)\n",
    "ans\n",
    "    \n",
    "    \n",
    "\n",
    "\n",
    "\n"
   ]
  },
  {
   "cell_type": "code",
   "execution_count": null,
   "metadata": {},
   "outputs": [],
   "source": []
  }
 ],
 "metadata": {
  "kernelspec": {
   "display_name": "Python 3",
   "language": "python",
   "name": "python3"
  },
  "language_info": {
   "codemirror_mode": {
    "name": "ipython",
    "version": 3
   },
   "file_extension": ".py",
   "mimetype": "text/x-python",
   "name": "python",
   "nbconvert_exporter": "python",
   "pygments_lexer": "ipython3",
   "version": "3.8.3"
  }
 },
 "nbformat": 4,
 "nbformat_minor": 4
}
